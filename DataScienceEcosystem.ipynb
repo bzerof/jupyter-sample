{
 "cells": [
  {
   "cell_type": "code",
   "execution_count": 4,
   "id": "689ac1a7-4331-46aa-ac85-46c95700f093",
   "metadata": {
    "tags": []
   },
   "outputs": [
    {
     "data": {
      "text/html": [
       "<style>table {align:left;display:block}</style>"
      ],
      "text/plain": [
       "<IPython.core.display.HTML object>"
      ]
     },
     "execution_count": 4,
     "metadata": {},
     "output_type": "execute_result"
    }
   ],
   "source": [
    "from IPython.core.display import HTML\n",
    "table_css = 'table {align:left;display:block}'\n",
    "HTML('<style>{}</style>'.format(table_css))"
   ]
  },
  {
   "cell_type": "markdown",
   "id": "91ddabf5-d57d-4915-8bcc-5b35baa5de61",
   "metadata": {},
   "source": [
    "# Data Science Tools and Ecosystem"
   ]
  },
  {
   "cell_type": "markdown",
   "id": "68b48f19-dab6-43b8-a1bb-b6f892486ae6",
   "metadata": {},
   "source": [
    "In this notebook, Data Science Tools and Ecosystem are summarized."
   ]
  },
  {
   "cell_type": "markdown",
   "id": "fd0a4b72-2aca-422f-b761-f0c32c542040",
   "metadata": {},
   "source": [
    "Some of the key takeaways from the course"
   ]
  },
  {
   "cell_type": "markdown",
   "id": "8634e33b-8227-4759-9ba8-6f6444925cea",
   "metadata": {},
   "source": [
    "**Objectives:**\n",
    "* Popular languages for Data Science;\n",
    "* Commonly used libraries used by Data Scientists;\n",
    "* Data science tools;\n",
    "* Some calculations examples."
   ]
  },
  {
   "cell_type": "markdown",
   "id": "b01b2c9b-1046-4b4d-b9ab-999873fb9f4d",
   "metadata": {},
   "source": [
    "## Author ##\n",
    "Ben Perez"
   ]
  },
  {
   "cell_type": "markdown",
   "id": "e07ca01e-a205-48a4-8862-ee640ed1fd5b",
   "metadata": {},
   "source": [
    "Some of the popular languages that Data Scientists use are:"
   ]
  },
  {
   "cell_type": "markdown",
   "id": "0072cff2-e61d-4d7d-b2ba-6443e3df148c",
   "metadata": {},
   "source": [
    "1. Phyton\n",
    "2. Java\n",
    "3. Js\n",
    "4. C++\n"
   ]
  },
  {
   "cell_type": "markdown",
   "id": "e1afc4c6-4aae-4447-956c-5a149ab66409",
   "metadata": {},
   "source": [
    "Some of the commonly used libraries used by Data Scientists include:"
   ]
  },
  {
   "cell_type": "markdown",
   "id": "0df840b3-4cc2-4af4-9737-3ce9b83c5e53",
   "metadata": {},
   "source": [
    "1. TensorFlow.\n",
    "2. NumPy.\n",
    "3. SciPy.\n",
    "4. Pandas.\n",
    "5. Matplotlib.\n",
    "6. Keras.\n",
    "7. SciKit-Learn.\n",
    "8. PyTorch."
   ]
  },
  {
   "cell_type": "markdown",
   "id": "21fe4cfe-4e40-49ec-b1af-41998ff6d79f",
   "metadata": {},
   "source": [
    "|Data Science Tools|\n",
    "| --- |\n",
    "| RStudio. |\n",
    "| Apache Spark. |\n",
    "| TensorFlow. |\n",
    "| Apache Hadoop. |\n",
    "| RapidMiner. |"
   ]
  },
  {
   "cell_type": "markdown",
   "id": "c029d523-6bd8-48ab-9045-125f8bcb844e",
   "metadata": {},
   "source": [
    "### Below are a few examples of evaluating arithmetic expressions in Python."
   ]
  },
  {
   "cell_type": "markdown",
   "id": "6165f5e9-aeb1-4389-9c0d-94071a64087c",
   "metadata": {},
   "source": [
    "_This a simple arithmetic expression to mutiply then add integers_"
   ]
  },
  {
   "cell_type": "code",
   "execution_count": 17,
   "id": "56fd2889-2557-4ac2-9788-080496555abd",
   "metadata": {
    "tags": []
   },
   "outputs": [
    {
     "data": {
      "text/plain": [
       "17.0"
      ]
     },
     "execution_count": 17,
     "metadata": {},
     "output_type": "execute_result"
    }
   ],
   "source": [
    "(3*4)+5."
   ]
  },
  {
   "cell_type": "markdown",
   "id": "82f171a3-06a0-4b6a-9487-2608490c0b68",
   "metadata": {},
   "source": [
    "_This will convert 200 minutes to hours by diving by 60_"
   ]
  },
  {
   "cell_type": "code",
   "execution_count": 18,
   "id": "69d8c948-3024-4a26-a118-d7eb5097583a",
   "metadata": {
    "tags": []
   },
   "outputs": [
    {
     "data": {
      "text/plain": [
       "3.3"
      ]
     },
     "execution_count": 18,
     "metadata": {},
     "output_type": "execute_result"
    }
   ],
   "source": [
    "round(200/60, 1)"
   ]
  }
 ],
 "metadata": {
  "kernelspec": {
   "display_name": "Python",
   "language": "python",
   "name": "conda-env-python-py"
  },
  "language_info": {
   "codemirror_mode": {
    "name": "ipython",
    "version": 3
   },
   "file_extension": ".py",
   "mimetype": "text/x-python",
   "name": "python",
   "nbconvert_exporter": "python",
   "pygments_lexer": "ipython3",
   "version": "3.7.12"
  },
  "toc-autonumbering": false,
  "toc-showcode": false,
  "toc-showmarkdowntxt": false,
  "toc-showtags": true
 },
 "nbformat": 4,
 "nbformat_minor": 5
}
